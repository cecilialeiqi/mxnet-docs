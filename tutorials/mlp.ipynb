{
 "cells": [
  {
   "cell_type": "markdown",
   "metadata": {
    "deletable": true,
    "editable": true
   },
   "source": [
    "# Multilayer Perceptron\n",
    "*Deep feedforward networks*, also often called feedforward neural networks, or *multilayer perceptrons (MLPs)*, are the quintessential deep learning models. The goal of a feedforward network is to approximate some function $f^*$.\n",
    "For example, for a classifier, $y = f^∗(x)$ maps an input $x$ to a category $y$. Like logistic regression, a feedforward network also defines a mapping $y =f(x;\\theta)$ and learns the value of the parameters $\\theta$ that result in the best function approximation. The difference is that logistic regression simply uses a linear predictor, while the models chosen by MLPs are non-linear and more complicated than that. \n",
    "\n",
    "For *feedforward networks*, information flows through the function in one direction: data is binded and evaluated from $x$, through the intermediate computations used to define $f$, and finally to the output $y$. The function has a structure like a *network*, or chain. For example, a model with depth $k$ is represented by functions $f^{(1)}, f^{(2)}, \\cdots, f^{(k)}$ to form $f(x) = f^{(k)}(\\cdots (f^{(2)}(f^{(1)}(x))))$. Each function $f^{(i)}(\\cdot)$ is a layer of the network. \n",
    "\n",
    "\n",
    "## Data handling\n",
    "We use the same data as we used in logistic regression: [Santander Customer Satisfaction](http://www.kaggle.com/c/santander-customer-satisfaction). We download the data, convert it to NDArray and prepare for the object of Data Iter by calling the mxnet.io.NDArrayIter function. "
   ]
  },
  {
   "cell_type": "code",
   "execution_count": 1,
   "metadata": {
    "collapsed": false,
    "deletable": true,
    "editable": true
   },
   "outputs": [],
   "source": [
    "import mxnet as mx\n",
    "import os\n",
    "import urllib\n",
    "def getData(fname):\n",
    "    data=[]\n",
    "    label=[]\n",
    "    firstline=True\n",
    "    for line in file(fname):\n",
    "        if (firstline):\n",
    "            firstline=False\n",
    "            continue\n",
    "        tks = line.strip().split(',')\n",
    "        data.append([float(i) for i in tks[1:-2]]) # omit the first column of user ID.\n",
    "        label.append(int(tks[-1]))\n",
    "    return mx.nd.array(data),mx.nd.array(label)\n",
    "if not os.path.exists('train.csv'):\n",
    "    urllib.urlretrieve('https://www.kaggle.com/c/santander-customer-satisfaction/download/train.csv.zip', 'train.csv')\n",
    "if not os.path.exists('test.csv'):\n",
    "    urllib.urlretrieve('https://www.kaggle.com/c/santander-customer-satisfaction/download/test.csv.zip', 'test.csv')\n",
    "X_train,y_train=getData('train.csv')\n"
   ]
  },
  {
   "cell_type": "markdown",
   "metadata": {
    "deletable": true,
    "editable": true
   },
   "source": [
    "Usually it's not very trustworthy to evaluate the performance on the training set, since a sophisticated model could easily overfit on the training data. Instead, we split the data into two parts, one for training, and the other one for validation. "
   ]
  },
  {
   "cell_type": "code",
   "execution_count": 2,
   "metadata": {
    "collapsed": false,
    "deletable": true,
    "editable": true
   },
   "outputs": [
    {
     "name": "stdout",
     "output_type": "stream",
     "text": [
      "(68418L, 368L)\n"
     ]
    }
   ],
   "source": [
    "n=int(X_train.shape[0])\n",
    "n_val=int(n/10)\n",
    "X_val=X_train[:n_val]\n",
    "y_val=y_train[:n_val]\n",
    "X_train=X_train[n_val:]\n",
    "y_train=y_train[n_val:]\n",
    "print X_train.shape\n",
    "batch_size = 100\n",
    "train_iter=mx.io.NDArrayIter(X_train,y_train, batch_size, shuffle=True)\n",
    "val_iter=mx.io.NDArrayIter(X_val,y_val,batch_size)"
   ]
  },
  {
   "cell_type": "markdown",
   "metadata": {
    "deletable": true,
    "editable": true
   },
   "source": [
    "After preparing for the data, we discuss what exactly is the model for Multilayer Perceptrons and show how to easily train the model on the training data by MXNet.\n",
    "\n",
    "## Model specification\n",
    "A multilayer perceptron contains several fully-connected layers. A fully-connected layer, with an $n \\times m$ input matrix $X$ outputs a matrix $Y$ with size $n \\times k$, where $k$ is often called as the hidden size. This layer has two parameters, the $m \\times k$ weight matrix $W$ and the $m \\times 1$ bias vector $b$. It computes the outputs with\n",
    "$Y=WX+b.$\n",
    "\n",
    "The output of a fully-connected layer is often fed into an activation layer, which performs element-wise operations. Two common options are the sigmoid function, or the rectifier (or “relu”) function, which outputs the max of 0 and the input. The activation step makes the function of each layer non-linear, and potentially is able to represent more .\n",
    "\n",
    "The last fully-connected layer often has the hidden size equals to the number of classes in the dataset. Then we stack a softmax layer, which map the input into a probability score. Again assume the input $X$ has size $n \\times m$:\n",
    "\n",
    "$$\\left[\\frac{\\exp(x_{i1})}{\\sum_{j=1}^m\\exp(x_{ij})},\\cdots, \\frac{\\exp(x_{im})}{\\sum^m_{j=1}\\exp(x_{ij})}\\right]$$\n",
    "\n",
    "Defining the multilayer perceptron in MXNet is straightforward, which has shown as following."
   ]
  },
  {
   "cell_type": "code",
   "execution_count": 3,
   "metadata": {
    "collapsed": false,
    "deletable": true,
    "editable": true
   },
   "outputs": [
    {
     "data": {
      "image/svg+xml": [
       "<?xml version=\"1.0\" encoding=\"UTF-8\" standalone=\"no\"?>\n",
       "<!DOCTYPE svg PUBLIC \"-//W3C//DTD SVG 1.1//EN\"\n",
       " \"http://www.w3.org/Graphics/SVG/1.1/DTD/svg11.dtd\">\n",
       "<!-- Generated by graphviz version 2.40.1 (20161225.0304)\n",
       " -->\n",
       "<!-- Title: plot Pages: 1 -->\n",
       "<svg width=\"214pt\" height=\"714pt\"\n",
       " viewBox=\"0.00 0.00 214.00 714.00\" xmlns=\"http://www.w3.org/2000/svg\" xmlns:xlink=\"http://www.w3.org/1999/xlink\">\n",
       "<g id=\"graph0\" class=\"graph\" transform=\"scale(1 1) rotate(0) translate(4 710)\">\n",
       "<title>plot</title>\n",
       "<polygon fill=\"#ffffff\" stroke=\"transparent\" points=\"-4,4 -4,-710 210,-710 210,4 -4,4\"/>\n",
       "<!-- data -->\n",
       "<g id=\"node1\" class=\"node\">\n",
       "<title>data</title>\n",
       "<ellipse fill=\"#8dd3c7\" stroke=\"#000000\" cx=\"47\" cy=\"-29\" rx=\"47\" ry=\"29\"/>\n",
       "<text text-anchor=\"middle\" x=\"47\" y=\"-24.8\" font-family=\"Times,serif\" font-size=\"14.00\" fill=\"#000000\">data</text>\n",
       "</g>\n",
       "<!-- fc1 -->\n",
       "<g id=\"node2\" class=\"node\">\n",
       "<title>fc1</title>\n",
       "<polygon fill=\"#fb8072\" stroke=\"#000000\" points=\"94,-166 0,-166 0,-108 94,-108 94,-166\"/>\n",
       "<text text-anchor=\"middle\" x=\"47\" y=\"-139.8\" font-family=\"Times,serif\" font-size=\"14.00\" fill=\"#000000\">FullyConnected</text>\n",
       "<text text-anchor=\"middle\" x=\"47\" y=\"-125.8\" font-family=\"Times,serif\" font-size=\"14.00\" fill=\"#000000\">128</text>\n",
       "</g>\n",
       "<!-- fc1&#45;&gt;data -->\n",
       "<g id=\"edge1\" class=\"edge\">\n",
       "<title>fc1&#45;&gt;data</title>\n",
       "<path fill=\"none\" stroke=\"#000000\" d=\"M47,-97.6567C47,-84.6329 47,-70.3785 47,-58.2497\"/>\n",
       "<polygon fill=\"#000000\" stroke=\"#000000\" points=\"47,-107.7736 42.5001,-97.7736 47,-102.7736 47.0001,-97.7736 47.0001,-97.7736 47.0001,-97.7736 47,-102.7736 51.5001,-97.7737 47,-107.7736 47,-107.7736\"/>\n",
       "<text text-anchor=\"middle\" x=\"57.5\" y=\"-78.8\" font-family=\"Times,serif\" font-size=\"14.00\" fill=\"#000000\">368</text>\n",
       "</g>\n",
       "<!-- relu1 -->\n",
       "<g id=\"node3\" class=\"node\">\n",
       "<title>relu1</title>\n",
       "<polygon fill=\"#ffffb3\" stroke=\"#000000\" points=\"94,-274 0,-274 0,-216 94,-216 94,-274\"/>\n",
       "<text text-anchor=\"middle\" x=\"47\" y=\"-247.8\" font-family=\"Times,serif\" font-size=\"14.00\" fill=\"#000000\">Activation</text>\n",
       "<text text-anchor=\"middle\" x=\"47\" y=\"-233.8\" font-family=\"Times,serif\" font-size=\"14.00\" fill=\"#000000\">relu</text>\n",
       "</g>\n",
       "<!-- relu1&#45;&gt;fc1 -->\n",
       "<g id=\"edge2\" class=\"edge\">\n",
       "<title>relu1&#45;&gt;fc1</title>\n",
       "<path fill=\"none\" stroke=\"#000000\" d=\"M47,-205.6567C47,-192.6329 47,-178.3785 47,-166.2497\"/>\n",
       "<polygon fill=\"#000000\" stroke=\"#000000\" points=\"47,-215.7736 42.5001,-205.7736 47,-210.7736 47.0001,-205.7736 47.0001,-205.7736 47.0001,-205.7736 47,-210.7736 51.5001,-205.7737 47,-215.7736 47,-215.7736\"/>\n",
       "<text text-anchor=\"middle\" x=\"57.5\" y=\"-186.8\" font-family=\"Times,serif\" font-size=\"14.00\" fill=\"#000000\">128</text>\n",
       "</g>\n",
       "<!-- fc2 -->\n",
       "<g id=\"node4\" class=\"node\">\n",
       "<title>fc2</title>\n",
       "<polygon fill=\"#fb8072\" stroke=\"#000000\" points=\"94,-382 0,-382 0,-324 94,-324 94,-382\"/>\n",
       "<text text-anchor=\"middle\" x=\"47\" y=\"-355.8\" font-family=\"Times,serif\" font-size=\"14.00\" fill=\"#000000\">FullyConnected</text>\n",
       "<text text-anchor=\"middle\" x=\"47\" y=\"-341.8\" font-family=\"Times,serif\" font-size=\"14.00\" fill=\"#000000\">64</text>\n",
       "</g>\n",
       "<!-- fc2&#45;&gt;relu1 -->\n",
       "<g id=\"edge3\" class=\"edge\">\n",
       "<title>fc2&#45;&gt;relu1</title>\n",
       "<path fill=\"none\" stroke=\"#000000\" d=\"M47,-313.6567C47,-300.6329 47,-286.3785 47,-274.2497\"/>\n",
       "<polygon fill=\"#000000\" stroke=\"#000000\" points=\"47,-323.7736 42.5001,-313.7736 47,-318.7736 47.0001,-313.7736 47.0001,-313.7736 47.0001,-313.7736 47,-318.7736 51.5001,-313.7737 47,-323.7736 47,-323.7736\"/>\n",
       "<text text-anchor=\"middle\" x=\"57.5\" y=\"-294.8\" font-family=\"Times,serif\" font-size=\"14.00\" fill=\"#000000\">128</text>\n",
       "</g>\n",
       "<!-- relu2 -->\n",
       "<g id=\"node5\" class=\"node\">\n",
       "<title>relu2</title>\n",
       "<polygon fill=\"#ffffb3\" stroke=\"#000000\" points=\"94,-490 0,-490 0,-432 94,-432 94,-490\"/>\n",
       "<text text-anchor=\"middle\" x=\"47\" y=\"-463.8\" font-family=\"Times,serif\" font-size=\"14.00\" fill=\"#000000\">Activation</text>\n",
       "<text text-anchor=\"middle\" x=\"47\" y=\"-449.8\" font-family=\"Times,serif\" font-size=\"14.00\" fill=\"#000000\">relu</text>\n",
       "</g>\n",
       "<!-- relu2&#45;&gt;fc2 -->\n",
       "<g id=\"edge4\" class=\"edge\">\n",
       "<title>relu2&#45;&gt;fc2</title>\n",
       "<path fill=\"none\" stroke=\"#000000\" d=\"M47,-421.6567C47,-408.6329 47,-394.3785 47,-382.2497\"/>\n",
       "<polygon fill=\"#000000\" stroke=\"#000000\" points=\"47,-431.7736 42.5001,-421.7736 47,-426.7736 47.0001,-421.7736 47.0001,-421.7736 47.0001,-421.7736 47,-426.7736 51.5001,-421.7737 47,-431.7736 47,-431.7736\"/>\n",
       "<text text-anchor=\"middle\" x=\"54\" y=\"-402.8\" font-family=\"Times,serif\" font-size=\"14.00\" fill=\"#000000\">64</text>\n",
       "</g>\n",
       "<!-- fc3 -->\n",
       "<g id=\"node6\" class=\"node\">\n",
       "<title>fc3</title>\n",
       "<polygon fill=\"#fb8072\" stroke=\"#000000\" points=\"94,-598 0,-598 0,-540 94,-540 94,-598\"/>\n",
       "<text text-anchor=\"middle\" x=\"47\" y=\"-571.8\" font-family=\"Times,serif\" font-size=\"14.00\" fill=\"#000000\">FullyConnected</text>\n",
       "<text text-anchor=\"middle\" x=\"47\" y=\"-557.8\" font-family=\"Times,serif\" font-size=\"14.00\" fill=\"#000000\">2</text>\n",
       "</g>\n",
       "<!-- fc3&#45;&gt;relu2 -->\n",
       "<g id=\"edge5\" class=\"edge\">\n",
       "<title>fc3&#45;&gt;relu2</title>\n",
       "<path fill=\"none\" stroke=\"#000000\" d=\"M47,-529.6567C47,-516.6329 47,-502.3785 47,-490.2497\"/>\n",
       "<polygon fill=\"#000000\" stroke=\"#000000\" points=\"47,-539.7736 42.5001,-529.7736 47,-534.7736 47.0001,-529.7736 47.0001,-529.7736 47.0001,-529.7736 47,-534.7736 51.5001,-529.7737 47,-539.7736 47,-539.7736\"/>\n",
       "<text text-anchor=\"middle\" x=\"54\" y=\"-510.8\" font-family=\"Times,serif\" font-size=\"14.00\" fill=\"#000000\">64</text>\n",
       "</g>\n",
       "<!-- softmax_label -->\n",
       "<g id=\"node7\" class=\"node\">\n",
       "<title>softmax_label</title>\n",
       "<ellipse fill=\"#8dd3c7\" stroke=\"#000000\" cx=\"159\" cy=\"-569\" rx=\"47\" ry=\"29\"/>\n",
       "<text text-anchor=\"middle\" x=\"159\" y=\"-564.8\" font-family=\"Times,serif\" font-size=\"14.00\" fill=\"#000000\">softmax_label</text>\n",
       "</g>\n",
       "<!-- softmax -->\n",
       "<g id=\"node8\" class=\"node\">\n",
       "<title>softmax</title>\n",
       "<polygon fill=\"#fccde5\" stroke=\"#000000\" points=\"172,-706 78,-706 78,-648 172,-648 172,-706\"/>\n",
       "<text text-anchor=\"middle\" x=\"125\" y=\"-672.8\" font-family=\"Times,serif\" font-size=\"14.00\" fill=\"#000000\">SoftmaxOutput</text>\n",
       "</g>\n",
       "<!-- softmax&#45;&gt;fc3 -->\n",
       "<g id=\"edge6\" class=\"edge\">\n",
       "<title>softmax&#45;&gt;fc3</title>\n",
       "<path fill=\"none\" stroke=\"#000000\" d=\"M97.9755,-639.5815C88.2024,-626.0495 77.3181,-610.9789 68.1248,-598.2497\"/>\n",
       "<polygon fill=\"#000000\" stroke=\"#000000\" points=\"103.8921,-647.7736 94.3891,-642.3016 100.9646,-643.7202 98.0371,-639.6668 98.0371,-639.6668 98.0371,-639.6668 100.9646,-643.7202 101.6852,-637.0321 103.8921,-647.7736 103.8921,-647.7736\"/>\n",
       "<text text-anchor=\"middle\" x=\"94.5\" y=\"-618.8\" font-family=\"Times,serif\" font-size=\"14.00\" fill=\"#000000\">2</text>\n",
       "</g>\n",
       "<!-- softmax&#45;&gt;softmax_label -->\n",
       "<g id=\"edge7\" class=\"edge\">\n",
       "<title>softmax&#45;&gt;softmax_label</title>\n",
       "<path fill=\"none\" stroke=\"#000000\" d=\"M137.3156,-637.8799C141.519,-624.5278 146.1369,-609.8593 150.0269,-597.5026\"/>\n",
       "<polygon fill=\"#000000\" stroke=\"#000000\" points=\"134.2009,-647.7736 132.9115,-636.8838 135.7024,-643.0044 137.2038,-638.2351 137.2038,-638.2351 137.2038,-638.2351 135.7024,-643.0044 141.4961,-639.5865 134.2009,-647.7736 134.2009,-647.7736\"/>\n",
       "</g>\n",
       "</g>\n",
       "</svg>\n"
      ],
      "text/plain": [
       "<graphviz.dot.Digraph at 0x10c8a36d0>"
      ]
     },
     "execution_count": 3,
     "metadata": {},
     "output_type": "execute_result"
    }
   ],
   "source": [
    "# Create a place holder variable for the input data\n",
    "data = mx.sym.Variable('data')\n",
    "\n",
    "# The first fully-connected layer\n",
    "fc1  = mx.sym.FullyConnected(data=data, name='fc1', num_hidden=128)\n",
    "# Apply relu to the output of the first fully-connnected layer\n",
    "act1 = mx.sym.Activation(data=fc1, name='relu1', act_type=\"relu\")\n",
    "\n",
    "# The second fully-connected layer and the according activation function\n",
    "fc2  = mx.sym.FullyConnected(data=act1, name='fc2', num_hidden = 64)\n",
    "act2 = mx.sym.Activation(data=fc2, name='relu2', act_type=\"relu\")\n",
    "\n",
    "# The thrid fully-connected layer, note that the hidden size should be 2, which is the number of classes\n",
    "fc3  = mx.sym.FullyConnected(data=act2, name='fc3', num_hidden=2)\n",
    "# The softmax and loss layer\n",
    "mlp  = mx.sym.SoftmaxOutput(data=fc3, name='softmax')\n",
    "\n",
    "# We visualize the network structure with output size (the batch_size is ignored.)\n",
    "shape = {\"data\" : (batch_size, 368)}\n",
    "mx.viz.plot_network(symbol=mlp, shape=shape)"
   ]
  },
  {
   "cell_type": "markdown",
   "metadata": {
    "deletable": true,
    "editable": true
   },
   "source": [
    "Hereby we define the two layered network with ReLu activation function, and softmax output. Now the parameters to define each layer are unknown, and should be trained by fitting in the input data and use some proper optimization algorithms stated as follows:\n",
    "\n",
    "## Back-propagation and training process\n",
    "For a feedforward neural network, it inputs some data $x$ and produces an output $\\hat{y}$, where information flows forward through the network. The inputs $x$ provide the initial information that then propagates up to the hidden units at each layer and finally produces $\\hat{y}$. This is called forward propagation. During training, forward propagation can continue onward until it produces a scalar cost related to parameters $\\theta$ associated with each layer. The *back-propagation algorithm*, often simply called *backprop*, allows the information from the cost to then flow backwards through the network, in order to compute the gradient. In a nutshell, back-propagation uses chain rule to numerically compute the gradient with respect to each batch of data and update accordingly to optimize distance between output $\\hat{y}$ and the true labels. \n",
    "\n",
    "The mxnet model wraps up the back-propagation algorithm inside and simplifies the whole training process in just several lines of code:"
   ]
  },
  {
   "cell_type": "code",
   "execution_count": 4,
   "metadata": {
    "collapsed": false,
    "deletable": true,
    "editable": true,
    "scrolled": true
   },
   "outputs": [
    {
     "name": "stderr",
     "output_type": "stream",
     "text": [
      "INFO:root:Start training with [cpu(0)]\n"
     ]
    },
    {
     "name": "stdout",
     "output_type": "stream",
     "text": [
      "\u001b[91m[Deprecation Warning] mxnet.model.FeedForward has been deprecated. Please use mxnet.mod.Module instead.\u001b[0m\n"
     ]
    },
    {
     "name": "stderr",
     "output_type": "stream",
     "text": [
      "INFO:root:Epoch[0] Batch [200]\tSpeed: 84701.93 samples/sec\tTrain-accuracy=0.944450\n",
      "INFO:root:Epoch[0] Batch [400]\tSpeed: 88498.35 samples/sec\tTrain-accuracy=0.960300\n",
      "INFO:root:Epoch[0] Batch [600]\tSpeed: 114851.55 samples/sec\tTrain-accuracy=0.960350\n",
      "INFO:root:Epoch[0] Resetting Data Iterator\n",
      "INFO:root:Epoch[0] Time cost=0.724\n",
      "INFO:root:Epoch[0] Validation-accuracy=0.959740\n",
      "INFO:root:Epoch[1] Batch [200]\tSpeed: 113232.41 samples/sec\tTrain-accuracy=0.961700\n",
      "INFO:root:Epoch[1] Batch [400]\tSpeed: 96695.53 samples/sec\tTrain-accuracy=0.960300\n",
      "INFO:root:Epoch[1] Batch [600]\tSpeed: 96386.10 samples/sec\tTrain-accuracy=0.960350\n",
      "INFO:root:Epoch[1] Resetting Data Iterator\n",
      "INFO:root:Epoch[1] Time cost=0.716\n",
      "INFO:root:Epoch[1] Validation-accuracy=0.959740\n",
      "INFO:root:Epoch[2] Batch [200]\tSpeed: 98423.30 samples/sec\tTrain-accuracy=0.961700\n",
      "INFO:root:Epoch[2] Batch [400]\tSpeed: 119571.30 samples/sec\tTrain-accuracy=0.960300\n",
      "INFO:root:Epoch[2] Batch [600]\tSpeed: 103394.44 samples/sec\tTrain-accuracy=0.960350\n",
      "INFO:root:Epoch[2] Resetting Data Iterator\n",
      "INFO:root:Epoch[2] Time cost=0.648\n",
      "INFO:root:Epoch[2] Validation-accuracy=0.959740\n"
     ]
    }
   ],
   "source": [
    "import logging\n",
    "logging.getLogger().setLevel(logging.DEBUG)\n",
    "\n",
    "model = mx.model.FeedForward(\n",
    "    symbol = mlp,       # network structure\n",
    "    num_epoch = 3,     # number of data passes for training \n",
    "    learning_rate = 0.1 # learning rate of SGD \n",
    ")\n",
    "model.fit(\n",
    "    X=train_iter,       # training data\n",
    "    eval_data=val_iter, # validation data\n",
    "    batch_end_callback = mx.callback.Speedometer(batch_size, 200) # output progress for each 1000 data batches\n",
    ")"
   ]
  },
  {
   "cell_type": "markdown",
   "metadata": {
    "deletable": true,
    "editable": true
   },
   "source": [
    "We can easily evaluate the performance by validation accuracy:"
   ]
  },
  {
   "cell_type": "code",
   "execution_count": 7,
   "metadata": {
    "collapsed": false,
    "deletable": true,
    "editable": true
   },
   "outputs": [
    {
     "name": "stdout",
     "output_type": "stream",
     "text": [
      "Validation accuracy: 95.974026%\n"
     ]
    }
   ],
   "source": [
    "valid_acc = model.score(val_iter)\n",
    "print 'Validation accuracy: %f%%' % (valid_acc *100,)\n",
    "assert valid_acc > 0.95, \"Low validation accuracy.\""
   ]
  }
 ],
 "metadata": {
  "kernelspec": {
   "display_name": "Python 2",
   "language": "python",
   "name": "python2"
  },
  "language_info": {
   "codemirror_mode": {
    "name": "ipython",
    "version": 2
   },
   "file_extension": ".py",
   "mimetype": "text/x-python",
   "name": "python",
   "nbconvert_exporter": "python",
   "pygments_lexer": "ipython2",
   "version": "2.7.13"
  }
 },
 "nbformat": 4,
 "nbformat_minor": 2
}
