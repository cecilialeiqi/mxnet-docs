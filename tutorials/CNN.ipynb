{
 "cells": [
  {
   "cell_type": "markdown",
   "metadata": {
    "deletable": true,
    "editable": true
   },
   "source": [
    "# Convolutional Neural Network"
   ]
  },
  {
   "cell_type": "markdown",
   "metadata": {
    "deletable": true,
    "editable": true
   },
   "source": [
    "In this tutorial, we show how to train a Convolutional Neural Network using MXNet on a popular hand written digit data.\n",
    "\n",
    "convolutional neural networks [(LeCun, 1989)](https://www.researchgate.net/profile/Yann_Lecun/publication/2453996_Convolutional_Networks_for_Images_Speech_and_Time-Series/links/0deec519dfa2325502000000.pdf) or CNNs are specially designed for processing data that is correlated along some directions. For example, time series data has temporal information along the time dimension, while image data has spatial information along different axis. These relation would be ignored in fully connected layers that view each time step (for time series) or pixel (for images) as independent features. As a consequence, CNN employs a mathematical operation called\n",
    "*convolution* that aim to improve this drawback by using a more structural weight $W$.\n",
    "\n",
    "## The MNIST Data\n",
    "We conduct CNN on one of the most classic machine learning data: MNIST. It is a simple computer vision dataset that consists of images for handwritten digits recognition. Each image in this dataset has been resized into 28x28 with grayscale value between 0 and 254. The following codes download and load the images and the according labels into numpy. In this tutorial, we're going to train a model to look at images and predict what digits they are. \n",
    "\n",
    "MNIST is hosted on Yann LeCun's website. To access the data for the first time, we start with the following code that downloads and reads in the data automatically into numpy:"
   ]
  },
  {
   "cell_type": "code",
   "execution_count": 1,
   "metadata": {
    "collapsed": false,
    "deletable": true,
    "editable": true
   },
   "outputs": [],
   "source": [
    "import numpy as np\n",
    "import os\n",
    "import urllib\n",
    "import gzip\n",
    "import struct\n",
    "def download_data(url, force_download=True): \n",
    "    fname = url.split(\"/\")[-1]\n",
    "    if force_download or not os.path.exists(fname):\n",
    "        urllib.urlretrieve(url, fname)\n",
    "    return fname\n",
    "\n",
    "def read_data(label_url, image_url):\n",
    "    with gzip.open(download_data(label_url)) as flbl:\n",
    "        magic, num = struct.unpack(\">II\", flbl.read(8))\n",
    "        label = np.fromstring(flbl.read(), dtype=np.int8)\n",
    "    with gzip.open(download_data(image_url), 'rb') as fimg:\n",
    "        magic, num, rows, cols = struct.unpack(\">IIII\", fimg.read(16))\n",
    "        image = np.fromstring(fimg.read(), dtype=np.uint8).reshape(len(label), rows, cols)\n",
    "    return (label, image)\n",
    "\n",
    "path='http://yann.lecun.com/exdb/mnist/'\n",
    "(train_lbl, train_img) = read_data(\n",
    "    path+'train-labels-idx1-ubyte.gz', path+'train-images-idx3-ubyte.gz')\n",
    "(val_lbl, val_img) = read_data(\n",
    "    path+'t10k-labels-idx1-ubyte.gz', path+'t10k-images-idx3-ubyte.gz')"
   ]
  },
  {
   "cell_type": "markdown",
   "metadata": {
    "deletable": true,
    "editable": true
   },
   "source": [
    "The MNIST data is split into three parts: 55,000 data points of training data (mnist.train), 10,000 points of test data (mnist.test), and 5,000 points of validation data (mnist.validation). It's important in machine learning that we evaluate the performance of our learnt model on data not used in training to avoid overfitting only on the training data. \n",
    "\n",
    "Every MNIST data point has two parts: an image of a handwritten digit and a corresponding label. We'll call the images \"x\" and the labels \"y\". Both the training set and test set contain images and their corresponding labels; for example the training images are mnist.train.images and the training labels are mnist.train.labels.\n",
    "We plot the first 10 images and print their labels."
   ]
  },
  {
   "cell_type": "code",
   "execution_count": 2,
   "metadata": {
    "collapsed": false,
    "deletable": true,
    "editable": true
   },
   "outputs": [
    {
     "data": {
      "image/png": "[encoded data removed]",
      "text/plain": [
       "<matplotlib.figure.Figure at 0x109dee6d0>"
      ]
     },
     "metadata": {},
     "output_type": "display_data"
    },
    {
     "name": "stdout",
     "output_type": "stream",
     "text": [
      "label: [5 0 4 1 9 2 1 3 1 4]\n"
     ]
    }
   ],
   "source": [
    "%matplotlib inline\n",
    "import matplotlib.pyplot as plt\n",
    "for i in range(10):\n",
    "    plt.subplot(1,10,i+1)\n",
    "    plt.imshow(train_img[i], cmap='Greys_r')\n",
    "    plt.axis('off')\n",
    "plt.show()\n",
    "print('label: %s' % (train_lbl[0:10],))"
   ]
  },
  {
   "cell_type": "markdown",
   "metadata": {
    "deletable": true,
    "editable": true
   },
   "source": [
    "Next we create data iterators for MXNet. The data iterator, which is similar the iterator, returns a batch of data in each <font color='red'>next()</font> call. A batch contains several images with its according labels. These images are stored in a 4-D matrix with shape <font color='red'>(batch_size, num_channels, width, height)</font>. For the MNIST dataset, there is only one color channel, and both width and height are 28. In addition, we often shuffle the images used for training, which accelerates the training progress."
   ]
  },
  {
   "cell_type": "code",
   "execution_count": 3,
   "metadata": {
    "collapsed": true,
    "deletable": true,
    "editable": true
   },
   "outputs": [],
   "source": [
    "import mxnet as mx\n",
    "\n",
    "def to4d(img):\n",
    "    return img.reshape(img.shape[0], 1, 28, 28).astype(np.float32)/255\n",
    "\n",
    "batch_size = 100\n",
    "train_iter = mx.io.NDArrayIter(to4d(train_img), train_lbl, batch_size, shuffle=True)\n",
    "val_iter = mx.io.NDArrayIter(to4d(val_img), val_lbl, batch_size)\n"
   ]
  },
  {
   "cell_type": "markdown",
   "metadata": {
    "deletable": true,
    "editable": true
   },
   "source": [
    "# Model\n",
    "The major difference of CNN and MLP is that it leverages the following ideas that not only improve the system efficiency and footprint, but also take care of the correlation along data axis.\n",
    "\n",
    "- *Sparse interactions*: each layer is no longer *fully connected*. This is accomplished by making the kernel smaller than the input, which will be illustrated in the convolution operatioin section.\n",
    "\n",
    "- *Parameter sharing*: CNN may use the same parameter for more than one function in a model. \n",
    "\n",
    "## The Convolution Operation\n",
    "In CNN, we usually refer the weight as the kernel (related to the terminology in convolution of Mathematical concept). In the following figure, we show what convolution operation does is to take each position of a same sized sub-matrix of the input data, and do inner product with the same kernel matrix (parameter sharing). \n",
    "\n",
    "From the operation, we can see that each member of the kernel is used at every position of the input (sub-matrix by sub-matrix). The parameter sharing used by the convolution operation means that rather than learning a separate set of parameters for every location, we learn only one set.\n",
    "\n",
    "![alt text](conv.png)\n",
    "\n",
    "We can also have multiple feature maps, each with their own weight matrices, to capture different features: \n",
    "![alt text](filters.png)\n",
    "\n",
    "\n",
    "\n",
    "## Pooling\n",
    "Besides the convolutional layer, another major change of the convolutional neural network is the adding of pooling layers. A pooling layer reduce a $n\\times m$ (often called kernal size) image patch into a single value to make the network less sensitive to the spatial location.\n",
    "![alt text](pooling.png)\n"
   ]
  },
  {
   "cell_type": "code",
   "execution_count": 4,
   "metadata": {
    "collapsed": false,
    "deletable": true,
    "editable": true
   },
   "outputs": [
    {
     "data": {
      "image/svg+xml": [
       "<?xml version=\"1.0\" encoding=\"UTF-8\" standalone=\"no\"?>\n",
       "<!DOCTYPE svg PUBLIC \"-//W3C//DTD SVG 1.1//EN\"\n",
       " \"http://www.w3.org/Graphics/SVG/1.1/DTD/svg11.dtd\">\n",
       "<!-- Generated by graphviz version 2.40.1 (20161225.0304)\n",
       " -->\n",
       "<!-- Title: plot Pages: 1 -->\n",
       "<svg width=\"214pt\" height=\"1254pt\"\n",
       " viewBox=\"0.00 0.00 214.00 1254.00\" xmlns=\"http://www.w3.org/2000/svg\" xmlns:xlink=\"http://www.w3.org/1999/xlink\">\n",
       "<g id=\"graph0\" class=\"graph\" transform=\"scale(1 1) rotate(0) translate(4 1250)\">\n",
       "<title>plot</title>\n",
       "<polygon fill=\"#ffffff\" stroke=\"transparent\" points=\"-4,4 -4,-1250 210,-1250 210,4 -4,4\"/>\n",
       "<!-- data -->\n",
       "<g id=\"node1\" class=\"node\">\n",
       "<title>data</title>\n",
       "<ellipse fill=\"#8dd3c7\" stroke=\"#000000\" cx=\"47\" cy=\"-29\" rx=\"47\" ry=\"29\"/>\n",
       "<text text-anchor=\"middle\" x=\"47\" y=\"-24.8\" font-family=\"Times,serif\" font-size=\"14.00\" fill=\"#000000\">data</text>\n",
       "</g>\n",
       "<!-- convolution0 -->\n",
       "<g id=\"node2\" class=\"node\">\n",
       "<title>convolution0</title>\n",
       "<polygon fill=\"#fb8072\" stroke=\"#000000\" points=\"94,-166 0,-166 0,-108 94,-108 94,-166\"/>\n",
       "<text text-anchor=\"middle\" x=\"47\" y=\"-139.8\" font-family=\"Times,serif\" font-size=\"14.00\" fill=\"#000000\">Convolution</text>\n",
       "<text text-anchor=\"middle\" x=\"47\" y=\"-125.8\" font-family=\"Times,serif\" font-size=\"14.00\" fill=\"#000000\">5x5/1, 20</text>\n",
       "</g>\n",
       "<!-- convolution0&#45;&gt;data -->\n",
       "<g id=\"edge1\" class=\"edge\">\n",
       "<title>convolution0&#45;&gt;data</title>\n",
       "<path fill=\"none\" stroke=\"#000000\" d=\"M47,-97.6567C47,-84.6329 47,-70.3785 47,-58.2497\"/>\n",
       "<polygon fill=\"#000000\" stroke=\"#000000\" points=\"47,-107.7736 42.5001,-97.7736 47,-102.7736 47.0001,-97.7736 47.0001,-97.7736 47.0001,-97.7736 47,-102.7736 51.5001,-97.7737 47,-107.7736 47,-107.7736\"/>\n",
       "<text text-anchor=\"middle\" x=\"71.5\" y=\"-78.8\" font-family=\"Times,serif\" font-size=\"14.00\" fill=\"#000000\">1x28x28</text>\n",
       "</g>\n",
       "<!-- activation0 -->\n",
       "<g id=\"node3\" class=\"node\">\n",
       "<title>activation0</title>\n",
       "<polygon fill=\"#ffffb3\" stroke=\"#000000\" points=\"94,-274 0,-274 0,-216 94,-216 94,-274\"/>\n",
       "<text text-anchor=\"middle\" x=\"47\" y=\"-247.8\" font-family=\"Times,serif\" font-size=\"14.00\" fill=\"#000000\">Activation</text>\n",
       "<text text-anchor=\"middle\" x=\"47\" y=\"-233.8\" font-family=\"Times,serif\" font-size=\"14.00\" fill=\"#000000\">tanh</text>\n",
       "</g>\n",
       "<!-- activation0&#45;&gt;convolution0 -->\n",
       "<g id=\"edge2\" class=\"edge\">\n",
       "<title>activation0&#45;&gt;convolution0</title>\n",
       "<path fill=\"none\" stroke=\"#000000\" d=\"M47,-205.6567C47,-192.6329 47,-178.3785 47,-166.2497\"/>\n",
       "<polygon fill=\"#000000\" stroke=\"#000000\" points=\"47,-215.7736 42.5001,-205.7736 47,-210.7736 47.0001,-205.7736 47.0001,-205.7736 47.0001,-205.7736 47,-210.7736 51.5001,-205.7737 47,-215.7736 47,-215.7736\"/>\n",
       "<text text-anchor=\"middle\" x=\"75\" y=\"-186.8\" font-family=\"Times,serif\" font-size=\"14.00\" fill=\"#000000\">20x24x24</text>\n",
       "</g>\n",
       "<!-- pooling0 -->\n",
       "<g id=\"node4\" class=\"node\">\n",
       "<title>pooling0</title>\n",
       "<polygon fill=\"#80b1d3\" stroke=\"#000000\" points=\"94,-382 0,-382 0,-324 94,-324 94,-382\"/>\n",
       "<text text-anchor=\"middle\" x=\"47\" y=\"-355.8\" font-family=\"Times,serif\" font-size=\"14.00\" fill=\"#000000\">Pooling</text>\n",
       "<text text-anchor=\"middle\" x=\"47\" y=\"-341.8\" font-family=\"Times,serif\" font-size=\"14.00\" fill=\"#000000\">max, 2x2/2</text>\n",
       "</g>\n",
       "<!-- pooling0&#45;&gt;activation0 -->\n",
       "<g id=\"edge3\" class=\"edge\">\n",
       "<title>pooling0&#45;&gt;activation0</title>\n",
       "<path fill=\"none\" stroke=\"#000000\" d=\"M47,-313.6567C47,-300.6329 47,-286.3785 47,-274.2497\"/>\n",
       "<polygon fill=\"#000000\" stroke=\"#000000\" points=\"47,-323.7736 42.5001,-313.7736 47,-318.7736 47.0001,-313.7736 47.0001,-313.7736 47.0001,-313.7736 47,-318.7736 51.5001,-313.7737 47,-323.7736 47,-323.7736\"/>\n",
       "<text text-anchor=\"middle\" x=\"75\" y=\"-294.8\" font-family=\"Times,serif\" font-size=\"14.00\" fill=\"#000000\">20x24x24</text>\n",
       "</g>\n",
       "<!-- convolution1 -->\n",
       "<g id=\"node5\" class=\"node\">\n",
       "<title>convolution1</title>\n",
       "<polygon fill=\"#fb8072\" stroke=\"#000000\" points=\"94,-490 0,-490 0,-432 94,-432 94,-490\"/>\n",
       "<text text-anchor=\"middle\" x=\"47\" y=\"-463.8\" font-family=\"Times,serif\" font-size=\"14.00\" fill=\"#000000\">Convolution</text>\n",
       "<text text-anchor=\"middle\" x=\"47\" y=\"-449.8\" font-family=\"Times,serif\" font-size=\"14.00\" fill=\"#000000\">5x5/1, 50</text>\n",
       "</g>\n",
       "<!-- convolution1&#45;&gt;pooling0 -->\n",
       "<g id=\"edge4\" class=\"edge\">\n",
       "<title>convolution1&#45;&gt;pooling0</title>\n",
       "<path fill=\"none\" stroke=\"#000000\" d=\"M47,-421.6567C47,-408.6329 47,-394.3785 47,-382.2497\"/>\n",
       "<polygon fill=\"#000000\" stroke=\"#000000\" points=\"47,-431.7736 42.5001,-421.7736 47,-426.7736 47.0001,-421.7736 47.0001,-421.7736 47.0001,-421.7736 47,-426.7736 51.5001,-421.7737 47,-431.7736 47,-431.7736\"/>\n",
       "<text text-anchor=\"middle\" x=\"75\" y=\"-402.8\" font-family=\"Times,serif\" font-size=\"14.00\" fill=\"#000000\">20x12x12</text>\n",
       "</g>\n",
       "<!-- activation1 -->\n",
       "<g id=\"node6\" class=\"node\">\n",
       "<title>activation1</title>\n",
       "<polygon fill=\"#ffffb3\" stroke=\"#000000\" points=\"94,-598 0,-598 0,-540 94,-540 94,-598\"/>\n",
       "<text text-anchor=\"middle\" x=\"47\" y=\"-571.8\" font-family=\"Times,serif\" font-size=\"14.00\" fill=\"#000000\">Activation</text>\n",
       "<text text-anchor=\"middle\" x=\"47\" y=\"-557.8\" font-family=\"Times,serif\" font-size=\"14.00\" fill=\"#000000\">tanh</text>\n",
       "</g>\n",
       "<!-- activation1&#45;&gt;convolution1 -->\n",
       "<g id=\"edge5\" class=\"edge\">\n",
       "<title>activation1&#45;&gt;convolution1</title>\n",
       "<path fill=\"none\" stroke=\"#000000\" d=\"M47,-529.6567C47,-516.6329 47,-502.3785 47,-490.2497\"/>\n",
       "<polygon fill=\"#000000\" stroke=\"#000000\" points=\"47,-539.7736 42.5001,-529.7736 47,-534.7736 47.0001,-529.7736 47.0001,-529.7736 47.0001,-529.7736 47,-534.7736 51.5001,-529.7737 47,-539.7736 47,-539.7736\"/>\n",
       "<text text-anchor=\"middle\" x=\"68\" y=\"-510.8\" font-family=\"Times,serif\" font-size=\"14.00\" fill=\"#000000\">50x8x8</text>\n",
       "</g>\n",
       "<!-- pooling1 -->\n",
       "<g id=\"node7\" class=\"node\">\n",
       "<title>pooling1</title>\n",
       "<polygon fill=\"#80b1d3\" stroke=\"#000000\" points=\"94,-706 0,-706 0,-648 94,-648 94,-706\"/>\n",
       "<text text-anchor=\"middle\" x=\"47\" y=\"-679.8\" font-family=\"Times,serif\" font-size=\"14.00\" fill=\"#000000\">Pooling</text>\n",
       "<text text-anchor=\"middle\" x=\"47\" y=\"-665.8\" font-family=\"Times,serif\" font-size=\"14.00\" fill=\"#000000\">max, 2x2/2</text>\n",
       "</g>\n",
       "<!-- pooling1&#45;&gt;activation1 -->\n",
       "<g id=\"edge6\" class=\"edge\">\n",
       "<title>pooling1&#45;&gt;activation1</title>\n",
       "<path fill=\"none\" stroke=\"#000000\" d=\"M47,-637.6567C47,-624.6329 47,-610.3785 47,-598.2497\"/>\n",
       "<polygon fill=\"#000000\" stroke=\"#000000\" points=\"47,-647.7736 42.5001,-637.7736 47,-642.7736 47.0001,-637.7736 47.0001,-637.7736 47.0001,-637.7736 47,-642.7736 51.5001,-637.7737 47,-647.7736 47,-647.7736\"/>\n",
       "<text text-anchor=\"middle\" x=\"68\" y=\"-618.8\" font-family=\"Times,serif\" font-size=\"14.00\" fill=\"#000000\">50x8x8</text>\n",
       "</g>\n",
       "<!-- flatten0 -->\n",
       "<g id=\"node8\" class=\"node\">\n",
       "<title>flatten0</title>\n",
       "<polygon fill=\"#fdb462\" stroke=\"#000000\" points=\"94,-814 0,-814 0,-756 94,-756 94,-814\"/>\n",
       "<text text-anchor=\"middle\" x=\"47\" y=\"-780.8\" font-family=\"Times,serif\" font-size=\"14.00\" fill=\"#000000\">Flatten</text>\n",
       "</g>\n",
       "<!-- flatten0&#45;&gt;pooling1 -->\n",
       "<g id=\"edge7\" class=\"edge\">\n",
       "<title>flatten0&#45;&gt;pooling1</title>\n",
       "<path fill=\"none\" stroke=\"#000000\" d=\"M47,-745.6567C47,-732.6329 47,-718.3785 47,-706.2497\"/>\n",
       "<polygon fill=\"#000000\" stroke=\"#000000\" points=\"47,-755.7736 42.5001,-745.7736 47,-750.7736 47.0001,-745.7736 47.0001,-745.7736 47.0001,-745.7736 47,-750.7736 51.5001,-745.7737 47,-755.7736 47,-755.7736\"/>\n",
       "<text text-anchor=\"middle\" x=\"68\" y=\"-726.8\" font-family=\"Times,serif\" font-size=\"14.00\" fill=\"#000000\">50x4x4</text>\n",
       "</g>\n",
       "<!-- fullyconnected0 -->\n",
       "<g id=\"node9\" class=\"node\">\n",
       "<title>fullyconnected0</title>\n",
       "<polygon fill=\"#fb8072\" stroke=\"#000000\" points=\"94,-922 0,-922 0,-864 94,-864 94,-922\"/>\n",
       "<text text-anchor=\"middle\" x=\"47\" y=\"-895.8\" font-family=\"Times,serif\" font-size=\"14.00\" fill=\"#000000\">FullyConnected</text>\n",
       "<text text-anchor=\"middle\" x=\"47\" y=\"-881.8\" font-family=\"Times,serif\" font-size=\"14.00\" fill=\"#000000\">500</text>\n",
       "</g>\n",
       "<!-- fullyconnected0&#45;&gt;flatten0 -->\n",
       "<g id=\"edge8\" class=\"edge\">\n",
       "<title>fullyconnected0&#45;&gt;flatten0</title>\n",
       "<path fill=\"none\" stroke=\"#000000\" d=\"M47,-853.6567C47,-840.6329 47,-826.3785 47,-814.2497\"/>\n",
       "<polygon fill=\"#000000\" stroke=\"#000000\" points=\"47,-863.7736 42.5001,-853.7736 47,-858.7736 47.0001,-853.7736 47.0001,-853.7736 47.0001,-853.7736 47,-858.7736 51.5001,-853.7737 47,-863.7736 47,-863.7736\"/>\n",
       "<text text-anchor=\"middle\" x=\"57.5\" y=\"-834.8\" font-family=\"Times,serif\" font-size=\"14.00\" fill=\"#000000\">800</text>\n",
       "</g>\n",
       "<!-- activation2 -->\n",
       "<g id=\"node10\" class=\"node\">\n",
       "<title>activation2</title>\n",
       "<polygon fill=\"#ffffb3\" stroke=\"#000000\" points=\"94,-1030 0,-1030 0,-972 94,-972 94,-1030\"/>\n",
       "<text text-anchor=\"middle\" x=\"47\" y=\"-1003.8\" font-family=\"Times,serif\" font-size=\"14.00\" fill=\"#000000\">Activation</text>\n",
       "<text text-anchor=\"middle\" x=\"47\" y=\"-989.8\" font-family=\"Times,serif\" font-size=\"14.00\" fill=\"#000000\">tanh</text>\n",
       "</g>\n",
       "<!-- activation2&#45;&gt;fullyconnected0 -->\n",
       "<g id=\"edge9\" class=\"edge\">\n",
       "<title>activation2&#45;&gt;fullyconnected0</title>\n",
       "<path fill=\"none\" stroke=\"#000000\" d=\"M47,-961.6567C47,-948.6329 47,-934.3785 47,-922.2497\"/>\n",
       "<polygon fill=\"#000000\" stroke=\"#000000\" points=\"47,-971.7736 42.5001,-961.7736 47,-966.7736 47.0001,-961.7736 47.0001,-961.7736 47.0001,-961.7736 47,-966.7736 51.5001,-961.7737 47,-971.7736 47,-971.7736\"/>\n",
       "<text text-anchor=\"middle\" x=\"57.5\" y=\"-942.8\" font-family=\"Times,serif\" font-size=\"14.00\" fill=\"#000000\">500</text>\n",
       "</g>\n",
       "<!-- fullyconnected1 -->\n",
       "<g id=\"node11\" class=\"node\">\n",
       "<title>fullyconnected1</title>\n",
       "<polygon fill=\"#fb8072\" stroke=\"#000000\" points=\"94,-1138 0,-1138 0,-1080 94,-1080 94,-1138\"/>\n",
       "<text text-anchor=\"middle\" x=\"47\" y=\"-1111.8\" font-family=\"Times,serif\" font-size=\"14.00\" fill=\"#000000\">FullyConnected</text>\n",
       "<text text-anchor=\"middle\" x=\"47\" y=\"-1097.8\" font-family=\"Times,serif\" font-size=\"14.00\" fill=\"#000000\">10</text>\n",
       "</g>\n",
       "<!-- fullyconnected1&#45;&gt;activation2 -->\n",
       "<g id=\"edge10\" class=\"edge\">\n",
       "<title>fullyconnected1&#45;&gt;activation2</title>\n",
       "<path fill=\"none\" stroke=\"#000000\" d=\"M47,-1069.6567C47,-1056.6329 47,-1042.3785 47,-1030.2497\"/>\n",
       "<polygon fill=\"#000000\" stroke=\"#000000\" points=\"47,-1079.7736 42.5001,-1069.7736 47,-1074.7736 47.0001,-1069.7736 47.0001,-1069.7736 47.0001,-1069.7736 47,-1074.7736 51.5001,-1069.7737 47,-1079.7736 47,-1079.7736\"/>\n",
       "<text text-anchor=\"middle\" x=\"57.5\" y=\"-1050.8\" font-family=\"Times,serif\" font-size=\"14.00\" fill=\"#000000\">500</text>\n",
       "</g>\n",
       "<!-- softmax_label -->\n",
       "<g id=\"node12\" class=\"node\">\n",
       "<title>softmax_label</title>\n",
       "<ellipse fill=\"#8dd3c7\" stroke=\"#000000\" cx=\"159\" cy=\"-1109\" rx=\"47\" ry=\"29\"/>\n",
       "<text text-anchor=\"middle\" x=\"159\" y=\"-1104.8\" font-family=\"Times,serif\" font-size=\"14.00\" fill=\"#000000\">softmax_label</text>\n",
       "</g>\n",
       "<!-- softmax -->\n",
       "<g id=\"node13\" class=\"node\">\n",
       "<title>softmax</title>\n",
       "<polygon fill=\"#fccde5\" stroke=\"#000000\" points=\"170,-1246 76,-1246 76,-1188 170,-1188 170,-1246\"/>\n",
       "<text text-anchor=\"middle\" x=\"123\" y=\"-1212.8\" font-family=\"Times,serif\" font-size=\"14.00\" fill=\"#000000\">SoftmaxOutput</text>\n",
       "</g>\n",
       "<!-- softmax&#45;&gt;fullyconnected1 -->\n",
       "<g id=\"edge11\" class=\"edge\">\n",
       "<title>softmax&#45;&gt;fullyconnected1</title>\n",
       "<path fill=\"none\" stroke=\"#000000\" d=\"M96.6685,-1179.5815C87.1459,-1166.0495 76.5407,-1150.9789 67.5831,-1138.2497\"/>\n",
       "<polygon fill=\"#000000\" stroke=\"#000000\" points=\"102.4333,-1187.7736 92.9982,-1182.1853 99.5558,-1183.6846 96.6783,-1179.5956 96.6783,-1179.5956 96.6783,-1179.5956 99.5558,-1183.6846 100.3585,-1177.0058 102.4333,-1187.7736 102.4333,-1187.7736\"/>\n",
       "<text text-anchor=\"middle\" x=\"97\" y=\"-1158.8\" font-family=\"Times,serif\" font-size=\"14.00\" fill=\"#000000\">10</text>\n",
       "</g>\n",
       "<!-- softmax&#45;&gt;softmax_label -->\n",
       "<g id=\"edge12\" class=\"edge\">\n",
       "<title>softmax&#45;&gt;softmax_label</title>\n",
       "<path fill=\"none\" stroke=\"#000000\" d=\"M135.9092,-1178.2723C140.3948,-1164.8157 145.3399,-1149.9804 149.4991,-1137.5026\"/>\n",
       "<polygon fill=\"#000000\" stroke=\"#000000\" points=\"132.7421,-1187.7736 131.6354,-1176.8638 134.3233,-1183.0302 135.9045,-1178.2868 135.9045,-1178.2868 135.9045,-1178.2868 134.3233,-1183.0302 140.1735,-1179.7099 132.7421,-1187.7736 132.7421,-1187.7736\"/>\n",
       "</g>\n",
       "</g>\n",
       "</svg>\n"
      ],
      "text/plain": [
       "<graphviz.dot.Digraph at 0x120853750>"
      ]
     },
     "execution_count": 4,
     "metadata": {},
     "output_type": "execute_result"
    }
   ],
   "source": [
    "shape = {\"data\" : (batch_size, 1, 28, 28)}\n",
    "data = mx.symbol.Variable('data')\n",
    "# first conv layer\n",
    "conv1 = mx.sym.Convolution(data=data, kernel=(5,5), num_filter=20)\n",
    "tanh1 = mx.sym.Activation(data=conv1, act_type=\"tanh\")\n",
    "pool1 = mx.sym.Pooling(data=tanh1, pool_type=\"max\", kernel=(2,2), stride=(2,2))\n",
    "# second conv layer\n",
    "conv2 = mx.sym.Convolution(data=pool1, kernel=(5,5), num_filter=50)\n",
    "tanh2 = mx.sym.Activation(data=conv2, act_type=\"tanh\")\n",
    "pool2 = mx.sym.Pooling(data=tanh2, pool_type=\"max\", kernel=(2,2), stride=(2,2))\n",
    "# first fullc layer\n",
    "flatten = mx.sym.Flatten(data=pool2)\n",
    "fc1 = mx.symbol.FullyConnected(data=flatten, num_hidden=500)\n",
    "tanh3 = mx.sym.Activation(data=fc1, act_type=\"tanh\")\n",
    "# second fullc\n",
    "fc2 = mx.sym.FullyConnected(data=tanh3, num_hidden=10)\n",
    "# softmax loss\n",
    "lenet = mx.sym.SoftmaxOutput(data=fc2, name='softmax')\n",
    "mx.viz.plot_network(symbol=lenet, shape=shape)"
   ]
  },
  {
   "cell_type": "code",
   "execution_count": 5,
   "metadata": {
    "collapsed": false,
    "deletable": true,
    "editable": true
   },
   "outputs": [
    {
     "name": "stdout",
     "output_type": "stream",
     "text": [
      "\u001b[91m[Deprecation Warning] mxnet.model.FeedForward has been deprecated. Please use mxnet.mod.Module instead.\u001b[0m\n"
     ]
    }
   ],
   "source": [
    "# @@@ AUTOTEST_OUTPUT_IGNORED_CELL\n",
    "model = mx.model.FeedForward(\n",
    "    #ctx = mx.gpu(0),     # use GPU 0 for training, others are same as before\n",
    "    symbol = lenet,       \n",
    "    num_epoch = 10,     \n",
    "    learning_rate = 0.1)\n",
    "model.fit(\n",
    "    X=train_iter,  \n",
    "    eval_data=val_iter, \n",
    "    batch_end_callback = mx.callback.Speedometer(batch_size, 200)\n",
    ") \n",
    "assert model.score(val_iter) > 0.98, \"Low validation accuracy.\""
   ]
  },
  {
   "cell_type": "code",
   "execution_count": 6,
   "metadata": {
    "collapsed": false
   },
   "outputs": [
    {
     "data": {
      "text/plain": [
       "0.9867"
      ]
     },
     "execution_count": 6,
     "metadata": {},
     "output_type": "execute_result"
    }
   ],
   "source": [
    "model.score(val_iter)"
   ]
  },
  {
   "cell_type": "markdown",
   "metadata": {
    "collapsed": true,
    "deletable": true,
    "editable": true
   },
   "source": [
    "Note that, with the same hyper-parameters, LeNet achieves 98.7% validation accuracy, which improves on the previous multilayer perceptron accuracy of 96.6%.\n",
    "\n",
    "Because we rewrite the model parameters in mod, now we can try the previous digit recognition box again to check if or not the new CNN model improves the classification accuracy.\n",
    "\n"
   ]
  }
 ],
 "metadata": {
  "kernelspec": {
   "display_name": "Python 2",
   "language": "python",
   "name": "python2"
  },
  "language_info": {
   "codemirror_mode": {
    "name": "ipython",
    "version": 2
   },
   "file_extension": ".py",
   "mimetype": "text/x-python",
   "name": "python",
   "nbconvert_exporter": "python",
   "pygments_lexer": "ipython2",
   "version": "2.7.13"
  }
 },
 "nbformat": 4,
 "nbformat_minor": 2
}
